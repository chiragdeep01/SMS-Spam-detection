{
 "cells": [
  {
   "cell_type": "code",
   "execution_count": 23,
   "id": "15c263cd",
   "metadata": {},
   "outputs": [],
   "source": [
    "import pandas as pd"
   ]
  },
  {
   "cell_type": "markdown",
   "id": "efc1cefd",
   "metadata": {},
   "source": [
    "## Importing the Dataset\n",
    "#### We will first import the dataset and perform data cleaning steps"
   ]
  },
  {
   "cell_type": "code",
   "execution_count": 24,
   "id": "8783da8b",
   "metadata": {
    "execution": {
     "iopub.execute_input": "2022-06-09T18:11:03.399614Z",
     "iopub.status.busy": "2022-06-09T18:11:03.398653Z",
     "iopub.status.idle": "2022-06-09T18:11:03.432726Z",
     "shell.execute_reply": "2022-06-09T18:11:03.431740Z"
    },
    "papermill": {
     "duration": 0.044644,
     "end_time": "2022-06-09T18:11:03.435136",
     "exception": false,
     "start_time": "2022-06-09T18:11:03.390492",
     "status": "completed"
    },
    "tags": []
   },
   "outputs": [],
   "source": [
    "df = pd.read_csv('spam.csv',encoding=\"ISO-8859-1\")"
   ]
  },
  {
   "cell_type": "code",
   "execution_count": 25,
   "id": "0481e166",
   "metadata": {
    "execution": {
     "iopub.execute_input": "2022-06-09T18:11:03.451289Z",
     "iopub.status.busy": "2022-06-09T18:11:03.450645Z",
     "iopub.status.idle": "2022-06-09T18:11:03.470752Z",
     "shell.execute_reply": "2022-06-09T18:11:03.470062Z"
    },
    "papermill": {
     "duration": 0.030352,
     "end_time": "2022-06-09T18:11:03.472688",
     "exception": false,
     "start_time": "2022-06-09T18:11:03.442336",
     "status": "completed"
    },
    "tags": []
   },
   "outputs": [
    {
     "data": {
      "text/html": [
       "<div>\n",
       "<style scoped>\n",
       "    .dataframe tbody tr th:only-of-type {\n",
       "        vertical-align: middle;\n",
       "    }\n",
       "\n",
       "    .dataframe tbody tr th {\n",
       "        vertical-align: top;\n",
       "    }\n",
       "\n",
       "    .dataframe thead th {\n",
       "        text-align: right;\n",
       "    }\n",
       "</style>\n",
       "<table border=\"1\" class=\"dataframe\">\n",
       "  <thead>\n",
       "    <tr style=\"text-align: right;\">\n",
       "      <th></th>\n",
       "      <th>v1</th>\n",
       "      <th>v2</th>\n",
       "      <th>Unnamed: 2</th>\n",
       "      <th>Unnamed: 3</th>\n",
       "      <th>Unnamed: 4</th>\n",
       "    </tr>\n",
       "  </thead>\n",
       "  <tbody>\n",
       "    <tr>\n",
       "      <th>0</th>\n",
       "      <td>ham</td>\n",
       "      <td>Go until jurong point, crazy.. Available only ...</td>\n",
       "      <td>NaN</td>\n",
       "      <td>NaN</td>\n",
       "      <td>NaN</td>\n",
       "    </tr>\n",
       "    <tr>\n",
       "      <th>1</th>\n",
       "      <td>ham</td>\n",
       "      <td>Ok lar... Joking wif u oni...</td>\n",
       "      <td>NaN</td>\n",
       "      <td>NaN</td>\n",
       "      <td>NaN</td>\n",
       "    </tr>\n",
       "    <tr>\n",
       "      <th>2</th>\n",
       "      <td>spam</td>\n",
       "      <td>Free entry in 2 a wkly comp to win FA Cup fina...</td>\n",
       "      <td>NaN</td>\n",
       "      <td>NaN</td>\n",
       "      <td>NaN</td>\n",
       "    </tr>\n",
       "    <tr>\n",
       "      <th>3</th>\n",
       "      <td>ham</td>\n",
       "      <td>U dun say so early hor... U c already then say...</td>\n",
       "      <td>NaN</td>\n",
       "      <td>NaN</td>\n",
       "      <td>NaN</td>\n",
       "    </tr>\n",
       "    <tr>\n",
       "      <th>4</th>\n",
       "      <td>ham</td>\n",
       "      <td>Nah I don't think he goes to usf, he lives aro...</td>\n",
       "      <td>NaN</td>\n",
       "      <td>NaN</td>\n",
       "      <td>NaN</td>\n",
       "    </tr>\n",
       "  </tbody>\n",
       "</table>\n",
       "</div>"
      ],
      "text/plain": [
       "     v1                                                 v2 Unnamed: 2  \\\n",
       "0   ham  Go until jurong point, crazy.. Available only ...        NaN   \n",
       "1   ham                      Ok lar... Joking wif u oni...        NaN   \n",
       "2  spam  Free entry in 2 a wkly comp to win FA Cup fina...        NaN   \n",
       "3   ham  U dun say so early hor... U c already then say...        NaN   \n",
       "4   ham  Nah I don't think he goes to usf, he lives aro...        NaN   \n",
       "\n",
       "  Unnamed: 3 Unnamed: 4  \n",
       "0        NaN        NaN  \n",
       "1        NaN        NaN  \n",
       "2        NaN        NaN  \n",
       "3        NaN        NaN  \n",
       "4        NaN        NaN  "
      ]
     },
     "execution_count": 25,
     "metadata": {},
     "output_type": "execute_result"
    }
   ],
   "source": [
    "df[:5]"
   ]
  },
  {
   "cell_type": "code",
   "execution_count": 26,
   "id": "9214a9e8",
   "metadata": {
    "execution": {
     "iopub.execute_input": "2022-06-09T18:11:03.489467Z",
     "iopub.status.busy": "2022-06-09T18:11:03.488815Z",
     "iopub.status.idle": "2022-06-09T18:11:03.494486Z",
     "shell.execute_reply": "2022-06-09T18:11:03.493535Z"
    },
    "papermill": {
     "duration": 0.016156,
     "end_time": "2022-06-09T18:11:03.496288",
     "exception": false,
     "start_time": "2022-06-09T18:11:03.480132",
     "status": "completed"
    },
    "tags": []
   },
   "outputs": [
    {
     "data": {
      "text/plain": [
       "(5572, 5)"
      ]
     },
     "execution_count": 26,
     "metadata": {},
     "output_type": "execute_result"
    }
   ],
   "source": [
    "df.shape"
   ]
  },
  {
   "cell_type": "code",
   "execution_count": 27,
   "id": "fcea1a5b",
   "metadata": {
    "execution": {
     "iopub.execute_input": "2022-06-09T18:11:03.513352Z",
     "iopub.status.busy": "2022-06-09T18:11:03.512721Z",
     "iopub.status.idle": "2022-06-09T18:11:03.516992Z",
     "shell.execute_reply": "2022-06-09T18:11:03.516276Z"
    },
    "papermill": {
     "duration": 0.015001,
     "end_time": "2022-06-09T18:11:03.518820",
     "exception": false,
     "start_time": "2022-06-09T18:11:03.503819",
     "status": "completed"
    },
    "tags": []
   },
   "outputs": [],
   "source": [
    "df.columns = ['label', 'sms1', 'sms2', 'sms3', 'sms4']"
   ]
  },
  {
   "cell_type": "code",
   "execution_count": 28,
   "id": "8c6f0194",
   "metadata": {
    "execution": {
     "iopub.execute_input": "2022-06-09T18:11:03.536054Z",
     "iopub.status.busy": "2022-06-09T18:11:03.535380Z",
     "iopub.status.idle": "2022-06-09T18:11:03.546371Z",
     "shell.execute_reply": "2022-06-09T18:11:03.545480Z"
    },
    "papermill": {
     "duration": 0.021926,
     "end_time": "2022-06-09T18:11:03.548250",
     "exception": false,
     "start_time": "2022-06-09T18:11:03.526324",
     "status": "completed"
    },
    "tags": []
   },
   "outputs": [
    {
     "data": {
      "text/html": [
       "<div>\n",
       "<style scoped>\n",
       "    .dataframe tbody tr th:only-of-type {\n",
       "        vertical-align: middle;\n",
       "    }\n",
       "\n",
       "    .dataframe tbody tr th {\n",
       "        vertical-align: top;\n",
       "    }\n",
       "\n",
       "    .dataframe thead th {\n",
       "        text-align: right;\n",
       "    }\n",
       "</style>\n",
       "<table border=\"1\" class=\"dataframe\">\n",
       "  <thead>\n",
       "    <tr style=\"text-align: right;\">\n",
       "      <th></th>\n",
       "      <th>label</th>\n",
       "      <th>sms1</th>\n",
       "      <th>sms2</th>\n",
       "      <th>sms3</th>\n",
       "      <th>sms4</th>\n",
       "    </tr>\n",
       "  </thead>\n",
       "  <tbody>\n",
       "    <tr>\n",
       "      <th>0</th>\n",
       "      <td>ham</td>\n",
       "      <td>Go until jurong point, crazy.. Available only ...</td>\n",
       "      <td>NaN</td>\n",
       "      <td>NaN</td>\n",
       "      <td>NaN</td>\n",
       "    </tr>\n",
       "    <tr>\n",
       "      <th>1</th>\n",
       "      <td>ham</td>\n",
       "      <td>Ok lar... Joking wif u oni...</td>\n",
       "      <td>NaN</td>\n",
       "      <td>NaN</td>\n",
       "      <td>NaN</td>\n",
       "    </tr>\n",
       "    <tr>\n",
       "      <th>2</th>\n",
       "      <td>spam</td>\n",
       "      <td>Free entry in 2 a wkly comp to win FA Cup fina...</td>\n",
       "      <td>NaN</td>\n",
       "      <td>NaN</td>\n",
       "      <td>NaN</td>\n",
       "    </tr>\n",
       "    <tr>\n",
       "      <th>3</th>\n",
       "      <td>ham</td>\n",
       "      <td>U dun say so early hor... U c already then say...</td>\n",
       "      <td>NaN</td>\n",
       "      <td>NaN</td>\n",
       "      <td>NaN</td>\n",
       "    </tr>\n",
       "    <tr>\n",
       "      <th>4</th>\n",
       "      <td>ham</td>\n",
       "      <td>Nah I don't think he goes to usf, he lives aro...</td>\n",
       "      <td>NaN</td>\n",
       "      <td>NaN</td>\n",
       "      <td>NaN</td>\n",
       "    </tr>\n",
       "  </tbody>\n",
       "</table>\n",
       "</div>"
      ],
      "text/plain": [
       "  label                                               sms1 sms2 sms3 sms4\n",
       "0   ham  Go until jurong point, crazy.. Available only ...  NaN  NaN  NaN\n",
       "1   ham                      Ok lar... Joking wif u oni...  NaN  NaN  NaN\n",
       "2  spam  Free entry in 2 a wkly comp to win FA Cup fina...  NaN  NaN  NaN\n",
       "3   ham  U dun say so early hor... U c already then say...  NaN  NaN  NaN\n",
       "4   ham  Nah I don't think he goes to usf, he lives aro...  NaN  NaN  NaN"
      ]
     },
     "execution_count": 28,
     "metadata": {},
     "output_type": "execute_result"
    }
   ],
   "source": [
    "df[:5]"
   ]
  },
  {
   "cell_type": "code",
   "execution_count": 29,
   "id": "f57f1b2d",
   "metadata": {
    "execution": {
     "iopub.execute_input": "2022-06-09T18:11:03.565698Z",
     "iopub.status.busy": "2022-06-09T18:11:03.565111Z",
     "iopub.status.idle": "2022-06-09T18:11:03.574294Z",
     "shell.execute_reply": "2022-06-09T18:11:03.573657Z"
    },
    "papermill": {
     "duration": 0.020122,
     "end_time": "2022-06-09T18:11:03.576146",
     "exception": false,
     "start_time": "2022-06-09T18:11:03.556024",
     "status": "completed"
    },
    "tags": []
   },
   "outputs": [
    {
     "data": {
      "text/plain": [
       "label       0\n",
       "sms1        0\n",
       "sms2     5522\n",
       "sms3     5560\n",
       "sms4     5566\n",
       "dtype: int64"
      ]
     },
     "execution_count": 29,
     "metadata": {},
     "output_type": "execute_result"
    }
   ],
   "source": [
    "df.isnull().sum(axis = 0)"
   ]
  },
  {
   "cell_type": "code",
   "execution_count": 30,
   "id": "8688ce89",
   "metadata": {
    "execution": {
     "iopub.execute_input": "2022-06-09T18:11:03.594477Z",
     "iopub.status.busy": "2022-06-09T18:11:03.593899Z",
     "iopub.status.idle": "2022-06-09T18:11:03.604048Z",
     "shell.execute_reply": "2022-06-09T18:11:03.603005Z"
    },
    "papermill": {
     "duration": 0.023482,
     "end_time": "2022-06-09T18:11:03.607480",
     "exception": false,
     "start_time": "2022-06-09T18:11:03.583998",
     "status": "completed"
    },
    "tags": []
   },
   "outputs": [
    {
     "name": "stderr",
     "output_type": "stream",
     "text": [
      "C:\\Users\\cdeep\\AppData\\Local\\Temp\\ipykernel_13496\\97667530.py:2: FutureWarning: In a future version of pandas all arguments of DataFrame.drop except for the argument 'labels' will be keyword-only.\n",
      "  df = df.drop(['sms2','sms3','sms4'], 1)\n"
     ]
    }
   ],
   "source": [
    "##Dropping columns as majority of the values in these columns is null\n",
    "df = df.drop(['sms2','sms3','sms4'], 1)"
   ]
  },
  {
   "cell_type": "code",
   "execution_count": 31,
   "id": "016d9024",
   "metadata": {
    "execution": {
     "iopub.execute_input": "2022-06-09T18:11:03.627050Z",
     "iopub.status.busy": "2022-06-09T18:11:03.626482Z",
     "iopub.status.idle": "2022-06-09T18:11:03.638692Z",
     "shell.execute_reply": "2022-06-09T18:11:03.637722Z"
    },
    "papermill": {
     "duration": 0.024719,
     "end_time": "2022-06-09T18:11:03.640956",
     "exception": false,
     "start_time": "2022-06-09T18:11:03.616237",
     "status": "completed"
    },
    "tags": []
   },
   "outputs": [
    {
     "data": {
      "text/html": [
       "<div>\n",
       "<style scoped>\n",
       "    .dataframe tbody tr th:only-of-type {\n",
       "        vertical-align: middle;\n",
       "    }\n",
       "\n",
       "    .dataframe tbody tr th {\n",
       "        vertical-align: top;\n",
       "    }\n",
       "\n",
       "    .dataframe thead th {\n",
       "        text-align: right;\n",
       "    }\n",
       "</style>\n",
       "<table border=\"1\" class=\"dataframe\">\n",
       "  <thead>\n",
       "    <tr style=\"text-align: right;\">\n",
       "      <th></th>\n",
       "      <th>label</th>\n",
       "      <th>sms1</th>\n",
       "    </tr>\n",
       "  </thead>\n",
       "  <tbody>\n",
       "    <tr>\n",
       "      <th>0</th>\n",
       "      <td>ham</td>\n",
       "      <td>Go until jurong point, crazy.. Available only ...</td>\n",
       "    </tr>\n",
       "    <tr>\n",
       "      <th>1</th>\n",
       "      <td>ham</td>\n",
       "      <td>Ok lar... Joking wif u oni...</td>\n",
       "    </tr>\n",
       "    <tr>\n",
       "      <th>2</th>\n",
       "      <td>spam</td>\n",
       "      <td>Free entry in 2 a wkly comp to win FA Cup fina...</td>\n",
       "    </tr>\n",
       "    <tr>\n",
       "      <th>3</th>\n",
       "      <td>ham</td>\n",
       "      <td>U dun say so early hor... U c already then say...</td>\n",
       "    </tr>\n",
       "    <tr>\n",
       "      <th>4</th>\n",
       "      <td>ham</td>\n",
       "      <td>Nah I don't think he goes to usf, he lives aro...</td>\n",
       "    </tr>\n",
       "    <tr>\n",
       "      <th>...</th>\n",
       "      <td>...</td>\n",
       "      <td>...</td>\n",
       "    </tr>\n",
       "    <tr>\n",
       "      <th>5567</th>\n",
       "      <td>spam</td>\n",
       "      <td>This is the 2nd time we have tried 2 contact u...</td>\n",
       "    </tr>\n",
       "    <tr>\n",
       "      <th>5568</th>\n",
       "      <td>ham</td>\n",
       "      <td>Will Ì_ b going to esplanade fr home?</td>\n",
       "    </tr>\n",
       "    <tr>\n",
       "      <th>5569</th>\n",
       "      <td>ham</td>\n",
       "      <td>Pity, * was in mood for that. So...any other s...</td>\n",
       "    </tr>\n",
       "    <tr>\n",
       "      <th>5570</th>\n",
       "      <td>ham</td>\n",
       "      <td>The guy did some bitching but I acted like i'd...</td>\n",
       "    </tr>\n",
       "    <tr>\n",
       "      <th>5571</th>\n",
       "      <td>ham</td>\n",
       "      <td>Rofl. Its true to its name</td>\n",
       "    </tr>\n",
       "  </tbody>\n",
       "</table>\n",
       "<p>5572 rows × 2 columns</p>\n",
       "</div>"
      ],
      "text/plain": [
       "     label                                               sms1\n",
       "0      ham  Go until jurong point, crazy.. Available only ...\n",
       "1      ham                      Ok lar... Joking wif u oni...\n",
       "2     spam  Free entry in 2 a wkly comp to win FA Cup fina...\n",
       "3      ham  U dun say so early hor... U c already then say...\n",
       "4      ham  Nah I don't think he goes to usf, he lives aro...\n",
       "...    ...                                                ...\n",
       "5567  spam  This is the 2nd time we have tried 2 contact u...\n",
       "5568   ham              Will Ì_ b going to esplanade fr home?\n",
       "5569   ham  Pity, * was in mood for that. So...any other s...\n",
       "5570   ham  The guy did some bitching but I acted like i'd...\n",
       "5571   ham                         Rofl. Its true to its name\n",
       "\n",
       "[5572 rows x 2 columns]"
      ]
     },
     "execution_count": 31,
     "metadata": {},
     "output_type": "execute_result"
    }
   ],
   "source": [
    "df"
   ]
  },
  {
   "cell_type": "markdown",
   "id": "256df87c",
   "metadata": {},
   "source": [
    "## Text Preprocessing"
   ]
  },
  {
   "cell_type": "code",
   "execution_count": 32,
   "id": "f8b1611d",
   "metadata": {
    "execution": {
     "iopub.execute_input": "2022-06-09T18:11:03.659284Z",
     "iopub.status.busy": "2022-06-09T18:11:03.658727Z",
     "iopub.status.idle": "2022-06-09T18:11:06.777467Z",
     "shell.execute_reply": "2022-06-09T18:11:06.776331Z"
    },
    "papermill": {
     "duration": 3.13038,
     "end_time": "2022-06-09T18:11:06.779538",
     "exception": false,
     "start_time": "2022-06-09T18:11:03.649158",
     "status": "completed"
    },
    "tags": []
   },
   "outputs": [
    {
     "name": "stderr",
     "output_type": "stream",
     "text": [
      "[nltk_data] Downloading package stopwords to\n",
      "[nltk_data]     C:\\Users\\cdeep\\AppData\\Roaming\\nltk_data...\n",
      "[nltk_data]   Package stopwords is already up-to-date!\n"
     ]
    },
    {
     "data": {
      "text/plain": [
       "True"
      ]
     },
     "execution_count": 32,
     "metadata": {},
     "output_type": "execute_result"
    }
   ],
   "source": [
    "import re\n",
    "import nltk\n",
    "from nltk.corpus import stopwords\n",
    "from nltk.stem.porter import PorterStemmer\n",
    "nltk.download('stopwords')"
   ]
  },
  {
   "cell_type": "code",
   "execution_count": 33,
   "id": "6362fbc2",
   "metadata": {
    "execution": {
     "iopub.execute_input": "2022-06-09T18:11:06.797397Z",
     "iopub.status.busy": "2022-06-09T18:11:06.797040Z",
     "iopub.status.idle": "2022-06-09T18:11:06.801126Z",
     "shell.execute_reply": "2022-06-09T18:11:06.800343Z"
    },
    "papermill": {
     "duration": 0.015277,
     "end_time": "2022-06-09T18:11:06.803118",
     "exception": false,
     "start_time": "2022-06-09T18:11:06.787841",
     "status": "completed"
    },
    "tags": []
   },
   "outputs": [],
   "source": [
    "ps = PorterStemmer()"
   ]
  },
  {
   "cell_type": "code",
   "execution_count": 34,
   "id": "b98c6ff7",
   "metadata": {
    "execution": {
     "iopub.execute_input": "2022-06-09T18:11:06.821492Z",
     "iopub.status.busy": "2022-06-09T18:11:06.820748Z",
     "iopub.status.idle": "2022-06-09T18:11:06.824932Z",
     "shell.execute_reply": "2022-06-09T18:11:06.824317Z"
    },
    "papermill": {
     "duration": 0.015336,
     "end_time": "2022-06-09T18:11:06.826755",
     "exception": false,
     "start_time": "2022-06-09T18:11:06.811419",
     "status": "completed"
    },
    "tags": []
   },
   "outputs": [],
   "source": [
    "corpus = []"
   ]
  },
  {
   "cell_type": "markdown",
   "id": "68f0ae41",
   "metadata": {},
   "source": [
    "## Text preperation\n",
    "###   \n",
    "####    1. First we are we are removing all the character except a-z and A-Z and replacing them with  SPACE.\n",
    "####    2. Then we are converting the text data to lower case because CountVectorizer will consider the    same word as seperate words if they start with small and capital letter.\n",
    "####    3. Then we apply stemming."
   ]
  },
  {
   "cell_type": "code",
   "execution_count": 35,
   "id": "c353709e",
   "metadata": {
    "execution": {
     "iopub.execute_input": "2022-06-09T18:11:06.845075Z",
     "iopub.status.busy": "2022-06-09T18:11:06.844359Z",
     "iopub.status.idle": "2022-06-09T18:11:21.015002Z",
     "shell.execute_reply": "2022-06-09T18:11:21.013965Z"
    },
    "papermill": {
     "duration": 14.182488,
     "end_time": "2022-06-09T18:11:21.017351",
     "exception": false,
     "start_time": "2022-06-09T18:11:06.834863",
     "status": "completed"
    },
    "tags": []
   },
   "outputs": [],
   "source": [
    "for i in range(len(df)):\n",
    "    review = re.sub('[^a-zA-Z]', ' ', df['sms1'][i])\n",
    "    review = review.lower()\n",
    "    review = review.split()\n",
    "    review = [ps.stem(word) for word in review if not word in set(stopwords.words('english'))]\n",
    "    review = ' '.join(review)\n",
    "    corpus.append(review)"
   ]
  },
  {
   "cell_type": "code",
   "execution_count": 36,
   "id": "a5b3fd2b",
   "metadata": {
    "execution": {
     "iopub.execute_input": "2022-06-09T18:11:21.036617Z",
     "iopub.status.busy": "2022-06-09T18:11:21.036190Z",
     "iopub.status.idle": "2022-06-09T18:11:21.042213Z",
     "shell.execute_reply": "2022-06-09T18:11:21.041385Z"
    },
    "papermill": {
     "duration": 0.017784,
     "end_time": "2022-06-09T18:11:21.044234",
     "exception": false,
     "start_time": "2022-06-09T18:11:21.026450",
     "status": "completed"
    },
    "tags": []
   },
   "outputs": [
    {
     "data": {
      "text/plain": [
       "['go jurong point crazi avail bugi n great world la e buffet cine got amor wat',\n",
       " 'ok lar joke wif u oni',\n",
       " 'free entri wkli comp win fa cup final tkt st may text fa receiv entri question std txt rate c appli',\n",
       " 'u dun say earli hor u c alreadi say',\n",
       " 'nah think goe usf live around though']"
      ]
     },
     "execution_count": 36,
     "metadata": {},
     "output_type": "execute_result"
    }
   ],
   "source": [
    "corpus[:5]"
   ]
  },
  {
   "cell_type": "code",
   "execution_count": 37,
   "id": "af490fc9",
   "metadata": {
    "execution": {
     "iopub.execute_input": "2022-06-09T18:11:21.063846Z",
     "iopub.status.busy": "2022-06-09T18:11:21.063454Z",
     "iopub.status.idle": "2022-06-09T18:11:21.212968Z",
     "shell.execute_reply": "2022-06-09T18:11:21.212251Z"
    },
    "papermill": {
     "duration": 0.161733,
     "end_time": "2022-06-09T18:11:21.215199",
     "exception": false,
     "start_time": "2022-06-09T18:11:21.053466",
     "status": "completed"
    },
    "tags": []
   },
   "outputs": [],
   "source": [
    "from sklearn.feature_extraction.text import CountVectorizer\n",
    "cv = CountVectorizer(max_features=2500)\n",
    "X = cv.fit_transform(corpus).toarray()"
   ]
  },
  {
   "cell_type": "code",
   "execution_count": 38,
   "id": "14b3b131",
   "metadata": {
    "execution": {
     "iopub.execute_input": "2022-06-09T18:11:21.235155Z",
     "iopub.status.busy": "2022-06-09T18:11:21.234252Z",
     "iopub.status.idle": "2022-06-09T18:11:21.243287Z",
     "shell.execute_reply": "2022-06-09T18:11:21.242500Z"
    },
    "papermill": {
     "duration": 0.0208,
     "end_time": "2022-06-09T18:11:21.245311",
     "exception": false,
     "start_time": "2022-06-09T18:11:21.224511",
     "status": "completed"
    },
    "tags": []
   },
   "outputs": [],
   "source": [
    "y=pd.get_dummies(df['label'], drop_first = True)"
   ]
  },
  {
   "cell_type": "markdown",
   "id": "0c6a1955",
   "metadata": {},
   "source": [
    "## Creating Training and Testing Data and training models"
   ]
  },
  {
   "cell_type": "code",
   "execution_count": 39,
   "id": "33cdd077",
   "metadata": {
    "execution": {
     "iopub.execute_input": "2022-06-09T18:11:21.264667Z",
     "iopub.status.busy": "2022-06-09T18:11:21.264021Z",
     "iopub.status.idle": "2022-06-09T18:11:21.413727Z",
     "shell.execute_reply": "2022-06-09T18:11:21.412741Z"
    },
    "papermill": {
     "duration": 0.16218,
     "end_time": "2022-06-09T18:11:21.416182",
     "exception": false,
     "start_time": "2022-06-09T18:11:21.254002",
     "status": "completed"
    },
    "tags": []
   },
   "outputs": [],
   "source": [
    "from sklearn.model_selection import train_test_split\n",
    "X_train, X_test, y_train, y_test = train_test_split(X, y.values.ravel(), test_size = 0.20, random_state = 0)\n",
    "from sklearn.naive_bayes import MultinomialNB\n",
    "spam_detect_model = MultinomialNB().fit(X_train, y_train)"
   ]
  },
  {
   "cell_type": "code",
   "execution_count": 40,
   "id": "fb234800",
   "metadata": {
    "execution": {
     "iopub.execute_input": "2022-06-09T18:11:21.435486Z",
     "iopub.status.busy": "2022-06-09T18:11:21.434864Z",
     "iopub.status.idle": "2022-06-09T18:11:21.458991Z",
     "shell.execute_reply": "2022-06-09T18:11:21.457883Z"
    },
    "papermill": {
     "duration": 0.03733,
     "end_time": "2022-06-09T18:11:21.462184",
     "exception": false,
     "start_time": "2022-06-09T18:11:21.424854",
     "status": "completed"
    },
    "tags": []
   },
   "outputs": [],
   "source": [
    "y_pred=spam_detect_model.predict(X_test)"
   ]
  },
  {
   "cell_type": "code",
   "execution_count": 41,
   "id": "58e826c2",
   "metadata": {
    "execution": {
     "iopub.execute_input": "2022-06-09T18:11:21.494839Z",
     "iopub.status.busy": "2022-06-09T18:11:21.494252Z",
     "iopub.status.idle": "2022-06-09T18:11:21.504554Z",
     "shell.execute_reply": "2022-06-09T18:11:21.503614Z"
    },
    "papermill": {
     "duration": 0.029933,
     "end_time": "2022-06-09T18:11:21.507485",
     "exception": false,
     "start_time": "2022-06-09T18:11:21.477552",
     "status": "completed"
    },
    "tags": []
   },
   "outputs": [
    {
     "data": {
      "text/plain": [
       "array([[943,   6],\n",
       "       [  9, 157]], dtype=int64)"
      ]
     },
     "execution_count": 41,
     "metadata": {},
     "output_type": "execute_result"
    }
   ],
   "source": [
    "from sklearn.metrics import confusion_matrix\n",
    "confusion_m = confusion_matrix(y_test, y_pred)\n",
    "confusion_m"
   ]
  },
  {
   "cell_type": "code",
   "execution_count": 42,
   "id": "94309e41",
   "metadata": {
    "execution": {
     "iopub.execute_input": "2022-06-09T18:11:21.540805Z",
     "iopub.status.busy": "2022-06-09T18:11:21.540239Z",
     "iopub.status.idle": "2022-06-09T18:11:30.180503Z",
     "shell.execute_reply": "2022-06-09T18:11:30.179484Z"
    },
    "papermill": {
     "duration": 8.659548,
     "end_time": "2022-06-09T18:11:30.182797",
     "exception": false,
     "start_time": "2022-06-09T18:11:21.523249",
     "status": "completed"
    },
    "tags": []
   },
   "outputs": [
    {
     "data": {
      "text/plain": [
       "array([[948,   1],\n",
       "       [ 25, 141]], dtype=int64)"
      ]
     },
     "execution_count": 42,
     "metadata": {},
     "output_type": "execute_result"
    }
   ],
   "source": [
    "from sklearn.ensemble import RandomForestClassifier\n",
    "\n",
    "classifier = RandomForestClassifier()\n",
    "classifier.fit(X_train, y_train)\n",
    "\n",
    "y_pred2 = classifier.predict(X_test)\n",
    "cm = confusion_matrix(y_test, y_pred2)\n",
    "cm"
   ]
  },
  {
   "cell_type": "code",
   "execution_count": 43,
   "id": "64266023",
   "metadata": {
    "execution": {
     "iopub.execute_input": "2022-06-09T18:11:30.201776Z",
     "iopub.status.busy": "2022-06-09T18:11:30.201323Z",
     "iopub.status.idle": "2022-06-09T18:11:30.205740Z",
     "shell.execute_reply": "2022-06-09T18:11:30.204739Z"
    },
    "papermill": {
     "duration": 0.016146,
     "end_time": "2022-06-09T18:11:30.207642",
     "exception": false,
     "start_time": "2022-06-09T18:11:30.191496",
     "status": "completed"
    },
    "tags": []
   },
   "outputs": [],
   "source": [
    "from sklearn.metrics import accuracy_score"
   ]
  },
  {
   "cell_type": "code",
   "execution_count": 44,
   "id": "755d0af9",
   "metadata": {
    "execution": {
     "iopub.execute_input": "2022-06-09T18:11:30.226665Z",
     "iopub.status.busy": "2022-06-09T18:11:30.226050Z",
     "iopub.status.idle": "2022-06-09T18:11:30.232742Z",
     "shell.execute_reply": "2022-06-09T18:11:30.231163Z"
    },
    "papermill": {
     "duration": 0.018468,
     "end_time": "2022-06-09T18:11:30.234757",
     "exception": false,
     "start_time": "2022-06-09T18:11:30.216289",
     "status": "completed"
    },
    "tags": []
   },
   "outputs": [
    {
     "name": "stdout",
     "output_type": "stream",
     "text": [
      "naive_bayes :  0.9865470852017937\n",
      "RandomForest :  0.9766816143497757\n"
     ]
    }
   ],
   "source": [
    "print('naive_bayes : ',accuracy_score(y_test, y_pred))\n",
    "print('RandomForest : ',accuracy_score(y_test, y_pred2))"
   ]
  },
  {
   "cell_type": "markdown",
   "id": "465bc379",
   "metadata": {
    "papermill": {
     "duration": 0.00837,
     "end_time": "2022-06-09T18:11:30.268642",
     "exception": false,
     "start_time": "2022-06-09T18:11:30.260272",
     "status": "completed"
    },
    "tags": []
   },
   "source": [
    "#### As we can see naive bayes outperforms the randomforest model so our final model will be spam_detect_model (naive bayes model)"
   ]
  },
  {
   "cell_type": "code",
   "execution_count": null,
   "id": "e2d40544",
   "metadata": {
    "papermill": {
     "duration": 0.008384,
     "end_time": "2022-06-09T18:11:30.285957",
     "exception": false,
     "start_time": "2022-06-09T18:11:30.277573",
     "status": "completed"
    },
    "tags": []
   },
   "outputs": [],
   "source": []
  }
 ],
 "metadata": {
  "kernelspec": {
   "display_name": "Python 3 (ipykernel)",
   "language": "python",
   "name": "python3"
  },
  "language_info": {
   "codemirror_mode": {
    "name": "ipython",
    "version": 3
   },
   "file_extension": ".py",
   "mimetype": "text/x-python",
   "name": "python",
   "nbconvert_exporter": "python",
   "pygments_lexer": "ipython3",
   "version": "3.9.12"
  },
  "papermill": {
   "default_parameters": {},
   "duration": 37.872891,
   "end_time": "2022-06-09T18:11:31.115691",
   "environment_variables": {},
   "exception": null,
   "input_path": "__notebook__.ipynb",
   "output_path": "__notebook__.ipynb",
   "parameters": {},
   "start_time": "2022-06-09T18:10:53.242800",
   "version": "2.3.4"
  }
 },
 "nbformat": 4,
 "nbformat_minor": 5
}
